{
 "cells": [
  {
   "cell_type": "code",
   "execution_count": 21,
   "id": "bc10ba36-2d5a-4cce-828b-5c2efc756c31",
   "metadata": {},
   "outputs": [],
   "source": [
    "import pygame\n",
    "from pygame.locals import*\n",
    "class Page:\n",
    "    def __init__(self, rvb: tuple = (43, 250, 250), taille: tuple = (700, 700)):\n",
    "        self.rvb = rvb\n",
    "        self.taille = taille\n",
    "\n",
    "    def afficher(self):\n",
    "        pygame.init()\n",
    "        ecran = pygame.display.set_mode((self.taille[0], self.taille[1]))\n",
    "        ecran.fill((self.rvb[0], self.rvb[1], self.rvb[2]))\n",
    "        pygame.display.flip()\n",
    "        running = True\n",
    "        while running:\n",
    "            for event in pygame.event.get():\n",
    "                if event.type == pygame.QUIT:\n",
    "                    running = False\n",
    "        \n",
    "        pygame.quit()"
   ]
  },
  {
   "cell_type": "code",
   "execution_count": 22,
   "id": "439f7b0b-79a8-4341-9f2b-10ee6fe53c18",
   "metadata": {},
   "outputs": [],
   "source": [
    "page = Page()\n",
    "page.afficher()"
   ]
  },
  {
   "cell_type": "code",
   "execution_count": null,
   "id": "0229fb74-01b0-4346-9c5f-15875830d87f",
   "metadata": {},
   "outputs": [],
   "source": []
  }
 ],
 "metadata": {
  "kernelspec": {
   "display_name": "Python 3 (ipykernel)",
   "language": "python",
   "name": "python3"
  },
  "language_info": {
   "codemirror_mode": {
    "name": "ipython",
    "version": 3
   },
   "file_extension": ".py",
   "mimetype": "text/x-python",
   "name": "python",
   "nbconvert_exporter": "python",
   "pygments_lexer": "ipython3",
   "version": "3.12.7"
  }
 },
 "nbformat": 4,
 "nbformat_minor": 5
}
